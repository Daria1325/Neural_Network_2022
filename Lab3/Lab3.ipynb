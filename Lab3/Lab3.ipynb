{
  "nbformat": 4,
  "nbformat_minor": 0,
  "metadata": {
    "colab": {
      "name": "Lab3.ipynb",
      "provenance": [],
      "collapsed_sections": [],
      "authorship_tag": "ABX9TyO40EMewGOTtsisec2VCUay",
      "include_colab_link": true
    },
    "kernelspec": {
      "name": "python3",
      "display_name": "Python 3"
    },
    "language_info": {
      "name": "python"
    }
  },
  "cells": [
    {
      "cell_type": "markdown",
      "metadata": {
        "id": "view-in-github",
        "colab_type": "text"
      },
      "source": [
        "<a href=\"https://colab.research.google.com/github/Daria1325/Neural_Network_2022/blob/main/Lab3/Lab3.ipynb\" target=\"_parent\"><img src=\"https://colab.research.google.com/assets/colab-badge.svg\" alt=\"Open In Colab\"/></a>"
      ]
    },
    {
      "cell_type": "markdown",
      "source": [
        "# Лабораторна робота №3 <br>\n",
        "З дисципліни \"Нейронні мережі\"<br>\n",
        "студентки КН-31<br>\n",
        "Боженко Дар'ї<br>"
      ],
      "metadata": {
        "id": "ahlDg8r8WtBw"
      }
    },
    {
      "cell_type": "markdown",
      "source": [
        "##Завдання\n",
        "1. Вивчити особливості задач регресії та класифікації, метрики оцінки якості\n",
        "регресора та класифікатора.\n",
        "2. З використанням бібліотеки Sklearn вирішити задачу регресії\n",
        "https://realpython.com/linear-regression-in-python/\n",
        "- Поглиблено вивчити функцію make_regression.\n",
        "- Згенерувати набір даних за допомогою означеної функції, з використанням\n",
        "якнайбільшої кількості параметрів.\n",
        "- Розмірність набору даних прийняти у вигляді (100000х(30-n)), де n - номер за\n",
        "списком.\n",
        "- Здійснити моделювання згенерованого набору даних та візуалізацію результатів.\n",
        "https://www.codespeedy.com/make_regression-function-in-sklearn-with-python/\n",
        "- Надати значення метрик якості, приклад прогнозування\n",
        "https://stackabuse.com/linear-regression-in-python-with-scikit-learn/\n",
        "3. Відповіді оформити .ipynb документами за кожним з попередніх пунктів\n",
        "4. Викласти у зазначений репозіторій GitHub в окремій папці з назвою Lab3 де\n",
        "мають бути .ipynb файл та необхідні файли з даними"
      ],
      "metadata": {
        "id": "ocKs5mOVWvn7"
      }
    },
    {
      "cell_type": "markdown",
      "source": [
        "### З використанням бібліотеки Sklearn вирішити задачу регресії "
      ],
      "metadata": {
        "id": "CC-UC_offKsf"
      }
    },
    {
      "cell_type": "code",
      "source": [
        "import numpy as np\n",
        "import pandas as pd\n",
        "from matplotlib import pyplot\n",
        "from sklearn.datasets import make_regression\n",
        "from sklearn.linear_model import LinearRegression"
      ],
      "metadata": {
        "id": "XvS368dIbUfl"
      },
      "execution_count": 57,
      "outputs": []
    },
    {
      "cell_type": "markdown",
      "source": [
        "Згенеруємо набір даних, поділимо його на навчальний та тестовий набори"
      ],
      "metadata": {
        "id": "2FGlBRYhrHNh"
      }
    },
    {
      "cell_type": "code",
      "source": [
        "from sklearn.model_selection import train_test_split\n",
        "X, y = make_regression(n_samples=2700000, n_features=1, n_informative=5, bias =1.2 , noise=8)\n",
        "X_train, X_test, y_train, y_test = train_test_split(X, y, test_size=0.2, random_state=0)\n",
        "pyplot.scatter(X,y)\n",
        "pyplot.show()"
      ],
      "metadata": {
        "colab": {
          "base_uri": "https://localhost:8080/",
          "height": 265
        },
        "id": "AoAbWjrlfaO9",
        "outputId": "84fe167f-ecd3-42d6-abac-559bfa599a94"
      },
      "execution_count": 88,
      "outputs": [
        {
          "output_type": "display_data",
          "data": {
            "text/plain": [
              "<Figure size 432x288 with 1 Axes>"
            ],
            "image/png": "[encoded data removed]"
          },
          "metadata": {
            "needs_background": "light"
          }
        }
      ]
    },
    {
      "cell_type": "markdown",
      "source": [
        "Створимо модель, навчимо її, спрогнозуємо результати та відобразимо їх на графіку"
      ],
      "metadata": {
        "id": "XVu6mv7Uq0tu"
      }
    },
    {
      "cell_type": "code",
      "source": [
        "model = LinearRegression().fit(X_train, y_train)\n",
        "r_sq = model.score(X, y)\n",
        "print('coefficient of determination:', r_sq)\n",
        "print('intercept:', model.intercept_)\n",
        "print('slope:', model.coef_)\n",
        "\n",
        "y_pred = model.predict(X_test)\n",
        "pyplot.scatter(X_test,y_pred)\n",
        "pyplot.show()"
      ],
      "metadata": {
        "colab": {
          "base_uri": "https://localhost:8080/",
          "height": 317
        },
        "id": "NkgL6Sfvk7k4",
        "outputId": "b1f2ff72-8c2b-43a9-e7ca-194fed23aec4"
      },
      "execution_count": 89,
      "outputs": [
        {
          "output_type": "stream",
          "name": "stdout",
          "text": [
            "coefficient of determination: 0.8377439732104189\n",
            "intercept: 1.1997991444465481\n",
            "slope: [18.17859759]\n"
          ]
        },
        {
          "output_type": "display_data",
          "data": {
            "text/plain": [
              "<Figure size 432x288 with 1 Axes>"
            ],
            "image/png": "[encoded data removed]"
          },
          "metadata": {
            "needs_background": "light"
          }
        }
      ]
    },
    {
      "cell_type": "markdown",
      "source": [
        "Обрахуємо значення метрик якості"
      ],
      "metadata": {
        "id": "j60M1ahDrD2N"
      }
    },
    {
      "cell_type": "code",
      "source": [
        "from sklearn import metrics\n",
        "print('Mean Absolute Error:', metrics.mean_absolute_error(y_test, y_pred))\n",
        "print('Mean Squared Error:', metrics.mean_squared_error(y_test, y_pred))\n",
        "print('Root Mean Squared Error:', np.sqrt(metrics.mean_squared_error(y_test, y_pred)))"
      ],
      "metadata": {
        "colab": {
          "base_uri": "https://localhost:8080/"
        },
        "id": "fCceT3-ynPy0",
        "outputId": "6235d8eb-c9b6-46be-f048-edbe7dee90dd"
      },
      "execution_count": 91,
      "outputs": [
        {
          "output_type": "stream",
          "name": "stdout",
          "text": [
            "Mean Absolute Error: 6.394131605204775\n",
            "Mean Squared Error: 64.29416875989303\n",
            "Root Mean Squared Error: 8.0183644691354\n"
          ]
        }
      ]
    },
    {
      "cell_type": "markdown",
      "source": [
        "## Висновок\n",
        "У ході лабораторної роботи було набуто практичних навичок з роботи з бібліотекою Sklearn. Було вивчено особливості задачі регресії та вирішено її на практиці."
      ],
      "metadata": {
        "id": "Y6mzqzUEsASr"
      }
    }
  ]
}