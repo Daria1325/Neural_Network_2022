{
  "nbformat": 4,
  "nbformat_minor": 0,
  "metadata": {
    "colab": {
      "name": "Lab2.ipynb",
      "provenance": [],
      "collapsed_sections": [],
      "authorship_tag": "ABX9TyM9LXXDmd55KQWHdS/gi+t/",
      "include_colab_link": true
    },
    "kernelspec": {
      "name": "python3",
      "display_name": "Python 3"
    },
    "language_info": {
      "name": "python"
    }
  },
  "cells": [
    {
      "cell_type": "markdown",
      "metadata": {
        "id": "view-in-github",
        "colab_type": "text"
      },
      "source": [
        "<a href=\"https://colab.research.google.com/github/Daria1325/Neural_Network_2022/blob/main/Lab2/Lab2.ipynb\" target=\"_parent\"><img src=\"https://colab.research.google.com/assets/colab-badge.svg\" alt=\"Open In Colab\"/></a>"
      ]
    },
    {
      "cell_type": "markdown",
      "source": [
        "# Лабораторна робота №2 <br>\n",
        "З дисципліни \"Нейронні мережі\"<br>\n",
        "студентки КН-31<br>\n",
        "Боженко Дар'ї<br>"
      ],
      "metadata": {
        "id": "DhisxcKkIzz8"
      }
    },
    {
      "cell_type": "markdown",
      "source": [
        "##Завдання\n",
        "1. За матеріалами ознайомитись із засадами бібліотеки TensorFlow:\n",
        "- засвоєння поняття тензору\n",
        "- знати різні способи створення тензорів\n",
        "- створити набір даних із заданим розподілом (розподіл та розмір за власним\n",
        "рішенням), визначити його властивості (shape, rank, size, axis)\n",
        "- продемонструвати основні математичні операції над тензорами\n",
        "- провести CRUD операції над даними, reshape, інтеграцію з np.array, pd.DataFrame)\n",
        "2. Відповіді оформити .ipynb документами за кожним з попередніх пунктів\n",
        "3. Викласти у зазначений репозіторій GitHub в окремій папці з назвою Lab2 де мають бути .ipynb файл та необхідні файли з даними"
      ],
      "metadata": {
        "id": "tmXaQ_LGI8o9"
      }
    },
    {
      "cell_type": "markdown",
      "source": [
        "## Знати різні способи створення тензорів"
      ],
      "metadata": {
        "id": "hOpIrh69iJbt"
      }
    },
    {
      "cell_type": "code",
      "source": [
        "import  tensorflow  as  tf \n",
        "import numpy as np\n",
        "\n",
        "#vector\n",
        "vector = tf.constant([10, 10])\n",
        "print(vector)\n",
        "\n",
        "#matrix\n",
        "matrix = tf.constant([[10, 7], [7, 10]])\n",
        "print(matrix)\n",
        "\n",
        "#changeble\n",
        "changeable_tensor = tf.Variable([10, 7])\n",
        "print(changeable_tensor)\n",
        "\n",
        "# Make a tensor of all ones\n",
        "tf.ones(shape=(3, 2))"
      ],
      "metadata": {
        "colab": {
          "base_uri": "https://localhost:8080/"
        },
        "id": "izp-Zdmfh8jG",
        "outputId": "93808955-8c50-48a0-9937-e054202e66fe"
      },
      "execution_count": 1,
      "outputs": [
        {
          "output_type": "stream",
          "name": "stdout",
          "text": [
            "tf.Tensor([10 10], shape=(2,), dtype=int32)\n",
            "tf.Tensor(\n",
            "[[10  7]\n",
            " [ 7 10]], shape=(2, 2), dtype=int32)\n",
            "<tf.Variable 'Variable:0' shape=(2,) dtype=int32, numpy=array([10,  7], dtype=int32)>\n"
          ]
        },
        {
          "output_type": "execute_result",
          "data": {
            "text/plain": [
              "<tf.Tensor: shape=(3, 2), dtype=float32, numpy=\n",
              "array([[1., 1.],\n",
              "       [1., 1.],\n",
              "       [1., 1.]], dtype=float32)>"
            ]
          },
          "metadata": {},
          "execution_count": 1
        }
      ]
    },
    {
      "cell_type": "markdown",
      "source": [
        "## Cтворити набір даних із заданим розподілом (розподіл та розмір за власним рішенням), визначити його властивості (shape, rank, size, axis)"
      ],
      "metadata": {
        "id": "xGSZt8UNnSe3"
      }
    },
    {
      "cell_type": "code",
      "source": [
        "#нормальний розподіл\n",
        "tensor = tf.random.Generator.from_seed(5) \n",
        "tensor = tensor.normal(shape=(4, 2))\n",
        "print(tensor)\n",
        "\n",
        "print(\"Shape of tensor:\", tensor.shape)\n",
        "print(\"Rank of tensor:\", tensor.ndim)\n",
        "print(\"Elements along axis 0 of tensor:\", tensor.shape[0])\n",
        "print(\"Elements along last axis of tensor:\", tensor.shape[-1])\n",
        "print(\"Total number of elements:\", tf.size(tensor).numpy())"
      ],
      "metadata": {
        "id": "fo_E0JEko1WN",
        "colab": {
          "base_uri": "https://localhost:8080/"
        },
        "outputId": "affbb33d-430b-4461-b4fd-fb73797b953f"
      },
      "execution_count": 3,
      "outputs": [
        {
          "output_type": "stream",
          "name": "stdout",
          "text": [
            "tf.Tensor(\n",
            "[[ 1.0278524   0.27974114]\n",
            " [-0.01347923  1.845181  ]\n",
            " [ 0.97061104 -1.0242516 ]\n",
            " [-0.6544423  -0.29738766]], shape=(4, 2), dtype=float32)\n",
            "Shape of tensor: (4, 2)\n",
            "Rank of tensor: 2\n",
            "Elements along axis 0 of tensor: 4\n",
            "Elements along last axis of tensor: 2\n",
            "Total number of elements: 8\n"
          ]
        }
      ]
    },
    {
      "cell_type": "markdown",
      "source": [
        "## Продемонструвати основні математичні операції над тензорами"
      ],
      "metadata": {
        "id": "rhQqq_MOuERm"
      }
    },
    {
      "cell_type": "code",
      "source": [
        "tensor2 = tf.constant(np.arange(1, 9))\n",
        "tensor2 = tf.cast(tensor2, dtype=tf.float32)\n",
        "tensor2=tf.reshape(tensor2,(2,4))\n",
        "print(\"\\ntensor2\\n\",tensor2)\n",
        "\n",
        "print(\"\\n tensor + 10\\n\",tensor+10)\n",
        "print(\"\\n tensor * 5\\n\",tensor*5)\n",
        "print(\"\\n matrix multiplication\\n\",tf.matmul(tensor, tensor2))\n",
        "print(\"\\n tensor square\\n\",tf.square(tensor2*10))"
      ],
      "metadata": {
        "colab": {
          "base_uri": "https://localhost:8080/"
        },
        "id": "ecWDmU9euIso",
        "outputId": "465fab9f-d8c4-4a56-dee3-70d81011187b"
      },
      "execution_count": 14,
      "outputs": [
        {
          "output_type": "stream",
          "name": "stdout",
          "text": [
            "\n",
            "tensor2\n",
            " tf.Tensor(\n",
            "[[1. 2. 3. 4.]\n",
            " [5. 6. 7. 8.]], shape=(2, 4), dtype=float32)\n",
            "\n",
            " tensor + 10\n",
            " tf.Tensor(\n",
            "[[11.027852  10.279741 ]\n",
            " [ 9.986521  11.8451805]\n",
            " [10.970611   8.975748 ]\n",
            " [ 9.345558   9.702612 ]], shape=(4, 2), dtype=float32)\n",
            "\n",
            " tensor * 5\n",
            " tf.Tensor(\n",
            "[[ 5.139262    1.3987057 ]\n",
            " [-0.06739616  9.225904  ]\n",
            " [ 4.853055   -5.121258  ]\n",
            " [-3.2722116  -1.4869382 ]], shape=(4, 2), dtype=float32)\n",
            "\n",
            " matrix multiplication\n",
            " tf.Tensor(\n",
            "[[ 2.426558   3.7341516  5.041745   6.3493385]\n",
            " [ 9.212425  11.044127  12.87583   14.707531 ]\n",
            " [-4.1506467 -4.2042875 -4.257928  -4.3115683]\n",
            " [-2.1413805 -3.0932107 -4.0450406 -4.9968705]], shape=(4, 4), dtype=float32)\n",
            "\n",
            " tensor square\n",
            " tf.Tensor(\n",
            "[[ 100.  400.  900. 1600.]\n",
            " [2500. 3600. 4900. 6400.]], shape=(2, 4), dtype=float32)\n"
          ]
        }
      ]
    },
    {
      "cell_type": "markdown",
      "source": [
        "## Провести CRUD операції над даними, reshape, інтеграцію з np.array"
      ],
      "metadata": {
        "id": "jZXj6QJQ2RqM"
      }
    },
    {
      "cell_type": "code",
      "source": [
        "# reshape\n",
        "print(tf.reshape(tensor2,(1,8)))\n",
        "\n",
        "#інтеграція з np.array\n",
        "print(tensor2.numpy())\n",
        "\n",
        "del(tensor2)\n",
        "\n",
        "\n"
      ],
      "metadata": {
        "colab": {
          "base_uri": "https://localhost:8080/"
        },
        "id": "-jwBiDkH2WbL",
        "outputId": "749130af-5963-46e3-d2b4-9394bfdb3e77"
      },
      "execution_count": 15,
      "outputs": [
        {
          "output_type": "stream",
          "name": "stdout",
          "text": [
            "tf.Tensor([[1. 2. 3. 4. 5. 6. 7. 8.]], shape=(1, 8), dtype=float32)\n",
            "[[1. 2. 3. 4.]\n",
            " [5. 6. 7. 8.]]\n"
          ]
        }
      ]
    },
    {
      "cell_type": "markdown",
      "source": [
        "## Висновок\n",
        "У ході лабораторної роботи було набуто практичних навичок з роботи з такими сервісами як GoogleColab та GitHub. Я ознайомилася з функціоналом бібліотеки TensorFlow та її можливостями."
      ],
      "metadata": {
        "id": "qT2vfIttJcLm"
      }
    },
    {
      "cell_type": "markdown",
      "source": [
        ""
      ],
      "metadata": {
        "id": "eE4Esvo6nvZD"
      }
    }
  ]
}