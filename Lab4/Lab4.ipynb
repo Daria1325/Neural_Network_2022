{
  "nbformat": 4,
  "nbformat_minor": 0,
  "metadata": {
    "colab": {
      "name": "Lab4.ipynb",
      "provenance": [],
      "collapsed_sections": [],
      "authorship_tag": "ABX9TyOGYcS7oHmtbyIVFC8kLhA6",
      "include_colab_link": true
    },
    "kernelspec": {
      "name": "python3",
      "display_name": "Python 3"
    },
    "language_info": {
      "name": "python"
    },
    "accelerator": "GPU"
  },
  "cells": [
    {
      "cell_type": "markdown",
      "metadata": {
        "id": "view-in-github",
        "colab_type": "text"
      },
      "source": [
        "<a href=\"https://colab.research.google.com/github/Daria1325/Neural_Network_2022/blob/main/Lab4/Lab4.ipynb\" target=\"_parent\"><img src=\"https://colab.research.google.com/assets/colab-badge.svg\" alt=\"Open In Colab\"/></a>"
      ]
    },
    {
      "cell_type": "markdown",
      "source": [
        "# Лабораторна робота №4 <br>\n",
        "З дисципліни \"Нейронні мережі\"<br>\n",
        "студентки КН-31<br>\n",
        "Боженко Дар'ї<br>"
      ],
      "metadata": {
        "id": "38fCoS0AJHHW"
      }
    },
    {
      "cell_type": "markdown",
      "source": [
        "##Завдання\n",
        "1. На основі документу вирішити завдання класифікації для набору даних\n",
        "Fashion MNIST.\n",
        "2. Для моделювання використати 3 класи індекси яких взяти відповідно до\n",
        "номеру у списку групи.\n",
        "3. Моделювання провести із використанням нейронної мережі (Flatten &amp; Dense\n",
        "layers).\n",
        "4. Здійснити вибір оптимального кроку градієнтного алгоритму (learning_rate), а\n",
        "також побудову Confusion Matrix.\n",
        "5. Результати оформити у вигляді файлу з кодом для моделювання та\n",
        "візуалізації у форматі .ipynb\n",
        "6. Результати викласти у репозиторії GitHub (папка Lab4).\n",
        "7. Підготуватися до захисту лабораторної роботи (пояснення коду, відповіді на\n",
        "запитання за темою)"
      ],
      "metadata": {
        "id": "XXdAkWEFJPaG"
      }
    },
    {
      "cell_type": "markdown",
      "source": [
        "Отримаємо дані Fashion MNIST."
      ],
      "metadata": {
        "id": "DvnTgZQmLCcn"
      }
    },
    {
      "cell_type": "code",
      "execution_count": 1,
      "metadata": {
        "id": "rXZwfSqQJANw",
        "colab": {
          "base_uri": "https://localhost:8080/"
        },
        "outputId": "c270d697-4ec2-47b6-873e-5ccc92b832ea"
      },
      "outputs": [
        {
          "output_type": "stream",
          "name": "stdout",
          "text": [
            "Downloading data from https://storage.googleapis.com/tensorflow/tf-keras-datasets/train-labels-idx1-ubyte.gz\n",
            "32768/29515 [=================================] - 0s 0us/step\n",
            "40960/29515 [=========================================] - 0s 0us/step\n",
            "Downloading data from https://storage.googleapis.com/tensorflow/tf-keras-datasets/train-images-idx3-ubyte.gz\n",
            "26427392/26421880 [==============================] - 0s 0us/step\n",
            "26435584/26421880 [==============================] - 0s 0us/step\n",
            "Downloading data from https://storage.googleapis.com/tensorflow/tf-keras-datasets/t10k-labels-idx1-ubyte.gz\n",
            "16384/5148 [===============================================================================================] - 0s 0us/step\n",
            "Downloading data from https://storage.googleapis.com/tensorflow/tf-keras-datasets/t10k-images-idx3-ubyte.gz\n",
            "4423680/4422102 [==============================] - 0s 0us/step\n",
            "4431872/4422102 [==============================] - 0s 0us/step\n"
          ]
        }
      ],
      "source": [
        "import tensorflow as tf\n",
        "from tensorflow.keras.datasets import fashion_mnist\n",
        "\n",
        "(train_data, train_labels), (test_data, test_labels) = fashion_mnist.load_data()"
      ]
    },
    {
      "cell_type": "code",
      "source": [
        "class_names = ['Pullover', 'Sandal', 'Ankle boot']"
      ],
      "metadata": {
        "id": "Up_ConqaMzu0"
      },
      "execution_count": 2,
      "outputs": []
    },
    {
      "cell_type": "markdown",
      "source": [
        "Оберемо данні 3 класів за варіантом"
      ],
      "metadata": {
        "id": "4GmDGTqlwdHS"
      }
    },
    {
      "cell_type": "code",
      "source": [
        "import numpy as np\n",
        "\n",
        "myTrain_data = []\n",
        "myTrain_labels = []\n",
        "myTest_data=[]\n",
        "myTest_labels  = []\n",
        "for i in range(len(train_labels)):\n",
        "  if (train_labels[i]==2 or train_labels[i]==5 or train_labels[i]==9 ):\n",
        "    myTrain_data.append(train_data[i])\n",
        "    myTrain_labels.append(train_labels[i])\n",
        "for i in range(len(test_labels)):\n",
        "  if (test_labels[i]==2 or test_labels[i]==5 or test_labels[i]==9 ):\n",
        "    myTest_data.append(test_data[i])\n",
        "    myTest_labels.append(test_labels[i])\n",
        "\n",
        "my_train_data = np.array(myTrain_data)\n",
        "my_train_labels = np.array(myTrain_labels)\n",
        "my_test_data= np.array(myTest_data)\n",
        "my_test_labels  = np.array(myTest_labels)"
      ],
      "metadata": {
        "id": "tucREL71dAja"
      },
      "execution_count": 24,
      "outputs": []
    },
    {
      "cell_type": "markdown",
      "source": [
        "Виведемо декілька екземплярів наших даних."
      ],
      "metadata": {
        "id": "C_KzbQEIwpUb"
      }
    },
    {
      "cell_type": "code",
      "source": [
        "import random\n",
        "plt.figure(figsize=(15, 15))\n",
        "for i in range(25):\n",
        "  ax = plt.subplot(5, 5, i + 1)\n",
        "  rand_index = random.choice(range(len(my_train_data)))\n",
        "  plt.imshow(my_train_data[i], cmap=plt.cm.binary)\n",
        "  plt.title(my_train_labels[i])\n",
        "  plt.axis(False)"
      ],
      "metadata": {
        "colab": {
          "base_uri": "https://localhost:8080/",
          "height": 862
        },
        "id": "e3kDyPNaj2rr",
        "outputId": "0f8fec14-eeda-4a72-eb1c-0d8ff896ecba"
      },
      "execution_count": 25,
      "outputs": [
        {
          "output_type": "display_data",
          "data": {
            "text/plain": [
              "<Figure size 1080x1080 with 25 Axes>"
            ],
            "image/png": "[encoded data removed]"
          },
          "metadata": {
            "needs_background": "light"
          }
        }
      ]
    },
    {
      "cell_type": "markdown",
      "source": [
        "Нормуємо дані."
      ],
      "metadata": {
        "id": "eBFQnxiBVnCA"
      }
    },
    {
      "cell_type": "code",
      "source": [
        "# Divide train and test images by the maximum value (normalize it)\n",
        "my_train_data = my_train_data / 255.0\n",
        "my_test_data = my_test_data / 255.0\n",
        "\n",
        "# Check the min and max values of the training data\n",
        "my_train_data.min(), my_train_data.max()"
      ],
      "metadata": {
        "colab": {
          "base_uri": "https://localhost:8080/"
        },
        "id": "v0jsMv0IrEaj",
        "outputId": "633c398f-742c-45f5-be0c-120d7352fd57"
      },
      "execution_count": 26,
      "outputs": [
        {
          "output_type": "execute_result",
          "data": {
            "text/plain": [
              "(0.0, 1.0)"
            ]
          },
          "metadata": {},
          "execution_count": 26
        }
      ]
    },
    {
      "cell_type": "markdown",
      "source": [
        "Проведемо моделювання із використанням нейронної мережі (Flatten & Dense layers)"
      ],
      "metadata": {
        "id": "ynbhUmrYVqWp"
      }
    },
    {
      "cell_type": "code",
      "source": [
        "# Set random seed\n",
        "tf.random.set_seed(42)\n",
        "\n",
        "# Create the model\n",
        "model_13 = tf.keras.Sequential([\n",
        "  tf.keras.layers.Flatten(input_shape=(28, 28)),\n",
        "  tf.keras.layers.Dense(4, activation=\"relu\"),\n",
        "  tf.keras.layers.Dense(4, activation=\"relu\"),\n",
        "  tf.keras.layers.Dense(10, activation=\"softmax\") \n",
        "])\n",
        "\n",
        "# Compile the model\n",
        "model_13.compile(loss=tf.keras.losses.SparseCategoricalCrossentropy(),\n",
        "                 optimizer=tf.keras.optimizers.Adam(),\n",
        "                 metrics=[\"accuracy\"])\n",
        "\n",
        "# Create the learning rate callback\n",
        "lr_scheduler = tf.keras.callbacks.LearningRateScheduler(lambda epoch: 1e-4 * 10**(epoch/20))\n",
        "\n",
        "# Fit the model\n",
        "find_lr_history = model_13.fit(my_train_data,\n",
        "                               my_train_labels,\n",
        "                               epochs=40,\n",
        "                               validation_data=(my_test_data, my_test_labels),\n",
        "                               callbacks=[lr_scheduler])"
      ],
      "metadata": {
        "colab": {
          "base_uri": "https://localhost:8080/"
        },
        "id": "nZm6PJrFLTpR",
        "outputId": "cd66d8c5-7206-46e3-86c5-72d00d140446"
      },
      "execution_count": 27,
      "outputs": [
        {
          "output_type": "stream",
          "name": "stdout",
          "text": [
            "Epoch 1/40\n",
            "563/563 [==============================] - 3s 5ms/step - loss: 1.4037 - accuracy: 0.5839 - val_loss: 0.9020 - val_accuracy: 0.8197 - lr: 1.0000e-04\n",
            "Epoch 2/40\n",
            "563/563 [==============================] - 2s 4ms/step - loss: 0.5770 - accuracy: 0.8871 - val_loss: 0.3930 - val_accuracy: 0.9093 - lr: 1.1220e-04\n",
            "Epoch 3/40\n",
            "563/563 [==============================] - 2s 4ms/step - loss: 0.3029 - accuracy: 0.9332 - val_loss: 0.2426 - val_accuracy: 0.9453 - lr: 1.2589e-04\n",
            "Epoch 4/40\n",
            "563/563 [==============================] - 2s 4ms/step - loss: 0.1965 - accuracy: 0.9543 - val_loss: 0.1684 - val_accuracy: 0.9577 - lr: 1.4125e-04\n",
            "Epoch 5/40\n",
            "563/563 [==============================] - 2s 4ms/step - loss: 0.1408 - accuracy: 0.9635 - val_loss: 0.1287 - val_accuracy: 0.9647 - lr: 1.5849e-04\n",
            "Epoch 6/40\n",
            "563/563 [==============================] - 2s 4ms/step - loss: 0.1086 - accuracy: 0.9706 - val_loss: 0.1040 - val_accuracy: 0.9717 - lr: 1.7783e-04\n",
            "Epoch 7/40\n",
            "563/563 [==============================] - 2s 4ms/step - loss: 0.0881 - accuracy: 0.9753 - val_loss: 0.0886 - val_accuracy: 0.9740 - lr: 1.9953e-04\n",
            "Epoch 8/40\n",
            "563/563 [==============================] - 2s 4ms/step - loss: 0.0728 - accuracy: 0.9786 - val_loss: 0.0765 - val_accuracy: 0.9797 - lr: 2.2387e-04\n",
            "Epoch 9/40\n",
            "563/563 [==============================] - 2s 4ms/step - loss: 0.0625 - accuracy: 0.9821 - val_loss: 0.0656 - val_accuracy: 0.9817 - lr: 2.5119e-04\n",
            "Epoch 10/40\n",
            "563/563 [==============================] - 2s 4ms/step - loss: 0.0539 - accuracy: 0.9838 - val_loss: 0.0591 - val_accuracy: 0.9823 - lr: 2.8184e-04\n",
            "Epoch 11/40\n",
            "563/563 [==============================] - 2s 4ms/step - loss: 0.0470 - accuracy: 0.9861 - val_loss: 0.0541 - val_accuracy: 0.9833 - lr: 3.1623e-04\n",
            "Epoch 12/40\n",
            "563/563 [==============================] - 2s 4ms/step - loss: 0.0423 - accuracy: 0.9866 - val_loss: 0.0487 - val_accuracy: 0.9853 - lr: 3.5481e-04\n",
            "Epoch 13/40\n",
            "563/563 [==============================] - 2s 4ms/step - loss: 0.0385 - accuracy: 0.9881 - val_loss: 0.0446 - val_accuracy: 0.9863 - lr: 3.9811e-04\n",
            "Epoch 14/40\n",
            "563/563 [==============================] - 2s 4ms/step - loss: 0.0360 - accuracy: 0.9884 - val_loss: 0.0421 - val_accuracy: 0.9873 - lr: 4.4668e-04\n",
            "Epoch 15/40\n",
            "563/563 [==============================] - 2s 4ms/step - loss: 0.0329 - accuracy: 0.9896 - val_loss: 0.0422 - val_accuracy: 0.9863 - lr: 5.0119e-04\n",
            "Epoch 16/40\n",
            "563/563 [==============================] - 2s 4ms/step - loss: 0.0317 - accuracy: 0.9897 - val_loss: 0.0445 - val_accuracy: 0.9850 - lr: 5.6234e-04\n",
            "Epoch 17/40\n",
            "563/563 [==============================] - 2s 4ms/step - loss: 0.0297 - accuracy: 0.9902 - val_loss: 0.0391 - val_accuracy: 0.9867 - lr: 6.3096e-04\n",
            "Epoch 18/40\n",
            "563/563 [==============================] - 2s 4ms/step - loss: 0.0285 - accuracy: 0.9909 - val_loss: 0.0391 - val_accuracy: 0.9877 - lr: 7.0795e-04\n",
            "Epoch 19/40\n",
            "563/563 [==============================] - 2s 4ms/step - loss: 0.0269 - accuracy: 0.9913 - val_loss: 0.0405 - val_accuracy: 0.9857 - lr: 7.9433e-04\n",
            "Epoch 20/40\n",
            "563/563 [==============================] - 2s 4ms/step - loss: 0.0264 - accuracy: 0.9909 - val_loss: 0.0403 - val_accuracy: 0.9870 - lr: 8.9125e-04\n",
            "Epoch 21/40\n",
            "563/563 [==============================] - 2s 4ms/step - loss: 0.0250 - accuracy: 0.9911 - val_loss: 0.0421 - val_accuracy: 0.9870 - lr: 0.0010\n",
            "Epoch 22/40\n",
            "563/563 [==============================] - 2s 4ms/step - loss: 0.0265 - accuracy: 0.9908 - val_loss: 0.0456 - val_accuracy: 0.9840 - lr: 0.0011\n",
            "Epoch 23/40\n",
            "563/563 [==============================] - 2s 4ms/step - loss: 0.0240 - accuracy: 0.9914 - val_loss: 0.0391 - val_accuracy: 0.9863 - lr: 0.0013\n",
            "Epoch 24/40\n",
            "563/563 [==============================] - 2s 4ms/step - loss: 0.0226 - accuracy: 0.9918 - val_loss: 0.0461 - val_accuracy: 0.9863 - lr: 0.0014\n",
            "Epoch 25/40\n",
            "563/563 [==============================] - 2s 4ms/step - loss: 0.0248 - accuracy: 0.9913 - val_loss: 0.0442 - val_accuracy: 0.9863 - lr: 0.0016\n",
            "Epoch 26/40\n",
            "563/563 [==============================] - 2s 4ms/step - loss: 0.0219 - accuracy: 0.9923 - val_loss: 0.0489 - val_accuracy: 0.9853 - lr: 0.0018\n",
            "Epoch 27/40\n",
            "563/563 [==============================] - 2s 4ms/step - loss: 0.0240 - accuracy: 0.9914 - val_loss: 0.0464 - val_accuracy: 0.9853 - lr: 0.0020\n",
            "Epoch 28/40\n",
            "563/563 [==============================] - 2s 4ms/step - loss: 0.0259 - accuracy: 0.9907 - val_loss: 0.0602 - val_accuracy: 0.9810 - lr: 0.0022\n",
            "Epoch 29/40\n",
            "563/563 [==============================] - 2s 4ms/step - loss: 0.0296 - accuracy: 0.9896 - val_loss: 0.0406 - val_accuracy: 0.9880 - lr: 0.0025\n",
            "Epoch 30/40\n",
            "563/563 [==============================] - 2s 4ms/step - loss: 0.0236 - accuracy: 0.9917 - val_loss: 0.0467 - val_accuracy: 0.9833 - lr: 0.0028\n",
            "Epoch 31/40\n",
            "563/563 [==============================] - 2s 4ms/step - loss: 0.0245 - accuracy: 0.9914 - val_loss: 0.0418 - val_accuracy: 0.9867 - lr: 0.0032\n",
            "Epoch 32/40\n",
            "563/563 [==============================] - 2s 4ms/step - loss: 0.0267 - accuracy: 0.9899 - val_loss: 0.0434 - val_accuracy: 0.9847 - lr: 0.0035\n",
            "Epoch 33/40\n",
            "563/563 [==============================] - 2s 4ms/step - loss: 0.0244 - accuracy: 0.9907 - val_loss: 0.0509 - val_accuracy: 0.9847 - lr: 0.0040\n",
            "Epoch 34/40\n",
            "563/563 [==============================] - 2s 4ms/step - loss: 0.0259 - accuracy: 0.9910 - val_loss: 0.0460 - val_accuracy: 0.9853 - lr: 0.0045\n",
            "Epoch 35/40\n",
            "563/563 [==============================] - 2s 4ms/step - loss: 0.0292 - accuracy: 0.9901 - val_loss: 0.0487 - val_accuracy: 0.9873 - lr: 0.0050\n",
            "Epoch 36/40\n",
            "563/563 [==============================] - 2s 4ms/step - loss: 0.0271 - accuracy: 0.9907 - val_loss: 0.0528 - val_accuracy: 0.9813 - lr: 0.0056\n",
            "Epoch 37/40\n",
            "563/563 [==============================] - 2s 4ms/step - loss: 0.0289 - accuracy: 0.9892 - val_loss: 0.0424 - val_accuracy: 0.9837 - lr: 0.0063\n",
            "Epoch 38/40\n",
            "563/563 [==============================] - 2s 4ms/step - loss: 0.0289 - accuracy: 0.9902 - val_loss: 0.0725 - val_accuracy: 0.9783 - lr: 0.0071\n",
            "Epoch 39/40\n",
            "563/563 [==============================] - 2s 4ms/step - loss: 0.0348 - accuracy: 0.9872 - val_loss: 0.0520 - val_accuracy: 0.9847 - lr: 0.0079\n",
            "Epoch 40/40\n",
            "563/563 [==============================] - 2s 4ms/step - loss: 0.0260 - accuracy: 0.9911 - val_loss: 0.0641 - val_accuracy: 0.9773 - lr: 0.0089\n"
          ]
        }
      ]
    },
    {
      "cell_type": "markdown",
      "source": [
        "Здійснити вибір оптимального кроку градієнтного алгоритму (learning_rate)"
      ],
      "metadata": {
        "id": "ws4q02J6VzX0"
      }
    },
    {
      "cell_type": "code",
      "source": [
        "# Plot the learning rate decay curve\n",
        "import numpy as np\n",
        "import matplotlib.pyplot as plt\n",
        "lrs = 1e-3 * (10**(np.arange(40)/20))\n",
        "plt.semilogx(lrs, find_lr_history.history[\"loss\"]) \n",
        "plt.xlabel(\"Learning rate\")\n",
        "plt.ylabel(\"Loss\")\n",
        "plt.title(\"Finding the ideal learning rate\");"
      ],
      "metadata": {
        "colab": {
          "base_uri": "https://localhost:8080/",
          "height": 299
        },
        "id": "MEEZguKNN3Tn",
        "outputId": "1d0460ce-af29-4f2c-e318-f71e0020dd37"
      },
      "execution_count": 28,
      "outputs": [
        {
          "output_type": "display_data",
          "data": {
            "text/plain": [
              "<Figure size 432x288 with 1 Axes>"
            ],
            "image/png": "[encoded data removed]"
          },
          "metadata": {
            "needs_background": "light"
          }
        }
      ]
    },
    {
      "cell_type": "markdown",
      "source": [
        "Здійснемо навчання моделі з оптимальним кроком"
      ],
      "metadata": {
        "id": "SV_WEf7CxiaE"
      }
    },
    {
      "cell_type": "code",
      "source": [
        "# Set random seed\n",
        "tf.random.set_seed(42)\n",
        "\n",
        "# Create the model\n",
        "model_14 = tf.keras.Sequential([\n",
        "  tf.keras.layers.Flatten(input_shape=(28, 28)), \n",
        "  tf.keras.layers.Dense(3, activation=\"relu\"),\n",
        "  tf.keras.layers.Dense(3, activation=\"relu\"),\n",
        "  tf.keras.layers.Dense(10, activation=\"softmax\") \n",
        "])\n",
        "\n",
        "# Compile the model\n",
        "model_14.compile(loss=tf.keras.losses.SparseCategoricalCrossentropy(),\n",
        "                 optimizer=tf.keras.optimizers.Adam(lr=0.01), \n",
        "                 metrics=[\"accuracy\"])\n",
        "\n",
        "# Fit the model\n",
        "history = model_14.fit(my_train_data,\n",
        "                       my_train_labels,\n",
        "                       epochs=20,\n",
        "                       validation_data=(my_test_data, my_test_labels))"
      ],
      "metadata": {
        "colab": {
          "base_uri": "https://localhost:8080/"
        },
        "id": "8jvfblGrYduY",
        "outputId": "152ff10a-0a61-4fe7-b52b-c04489aef51a"
      },
      "execution_count": 29,
      "outputs": [
        {
          "output_type": "stream",
          "name": "stdout",
          "text": [
            "Epoch 1/20\n"
          ]
        },
        {
          "output_type": "stream",
          "name": "stderr",
          "text": [
            "/usr/local/lib/python3.7/dist-packages/keras/optimizer_v2/adam.py:105: UserWarning: The `lr` argument is deprecated, use `learning_rate` instead.\n",
            "  super(Adam, self).__init__(name, **kwargs)\n"
          ]
        },
        {
          "output_type": "stream",
          "name": "stdout",
          "text": [
            "563/563 [==============================] - 3s 4ms/step - loss: 0.2231 - accuracy: 0.9117 - val_loss: 0.0828 - val_accuracy: 0.9770\n",
            "Epoch 2/20\n",
            "563/563 [==============================] - 2s 4ms/step - loss: 0.0708 - accuracy: 0.9765 - val_loss: 0.0770 - val_accuracy: 0.9773\n",
            "Epoch 3/20\n",
            "563/563 [==============================] - 2s 4ms/step - loss: 0.0589 - accuracy: 0.9805 - val_loss: 0.1103 - val_accuracy: 0.9710\n",
            "Epoch 4/20\n",
            "563/563 [==============================] - 2s 4ms/step - loss: 0.0510 - accuracy: 0.9833 - val_loss: 0.0843 - val_accuracy: 0.9747\n",
            "Epoch 5/20\n",
            "563/563 [==============================] - 2s 4ms/step - loss: 0.0428 - accuracy: 0.9851 - val_loss: 0.0710 - val_accuracy: 0.9793\n",
            "Epoch 6/20\n",
            "563/563 [==============================] - 2s 4ms/step - loss: 0.0463 - accuracy: 0.9828 - val_loss: 0.0639 - val_accuracy: 0.9810\n",
            "Epoch 7/20\n",
            "563/563 [==============================] - 2s 4ms/step - loss: 0.0396 - accuracy: 0.9863 - val_loss: 0.0541 - val_accuracy: 0.9827\n",
            "Epoch 8/20\n",
            "563/563 [==============================] - 2s 4ms/step - loss: 0.0364 - accuracy: 0.9870 - val_loss: 0.0602 - val_accuracy: 0.9813\n",
            "Epoch 9/20\n",
            "563/563 [==============================] - 2s 4ms/step - loss: 0.0390 - accuracy: 0.9876 - val_loss: 0.0564 - val_accuracy: 0.9840\n",
            "Epoch 10/20\n",
            "563/563 [==============================] - 2s 4ms/step - loss: 0.0356 - accuracy: 0.9876 - val_loss: 0.0588 - val_accuracy: 0.9817\n",
            "Epoch 11/20\n",
            "563/563 [==============================] - 2s 4ms/step - loss: 0.0336 - accuracy: 0.9882 - val_loss: 0.0575 - val_accuracy: 0.9837\n",
            "Epoch 12/20\n",
            "563/563 [==============================] - 2s 4ms/step - loss: 0.0341 - accuracy: 0.9888 - val_loss: 0.0506 - val_accuracy: 0.9833\n",
            "Epoch 13/20\n",
            "563/563 [==============================] - 2s 4ms/step - loss: 0.0312 - accuracy: 0.9889 - val_loss: 0.0536 - val_accuracy: 0.9827\n",
            "Epoch 14/20\n",
            "563/563 [==============================] - 2s 4ms/step - loss: 0.0285 - accuracy: 0.9906 - val_loss: 0.0665 - val_accuracy: 0.9813\n",
            "Epoch 15/20\n",
            "563/563 [==============================] - 2s 4ms/step - loss: 0.0320 - accuracy: 0.9894 - val_loss: 0.0866 - val_accuracy: 0.9770\n",
            "Epoch 16/20\n",
            "563/563 [==============================] - 2s 4ms/step - loss: 0.0326 - accuracy: 0.9887 - val_loss: 0.0637 - val_accuracy: 0.9817\n",
            "Epoch 17/20\n",
            "563/563 [==============================] - 2s 4ms/step - loss: 0.0301 - accuracy: 0.9895 - val_loss: 0.0671 - val_accuracy: 0.9827\n",
            "Epoch 18/20\n",
            "563/563 [==============================] - 2s 4ms/step - loss: 0.0325 - accuracy: 0.9892 - val_loss: 0.0589 - val_accuracy: 0.9833\n",
            "Epoch 19/20\n",
            "563/563 [==============================] - 2s 4ms/step - loss: 0.0296 - accuracy: 0.9898 - val_loss: 0.0626 - val_accuracy: 0.9820\n",
            "Epoch 20/20\n",
            "563/563 [==============================] - 2s 4ms/step - loss: 0.0273 - accuracy: 0.9901 - val_loss: 0.0620 - val_accuracy: 0.9797\n"
          ]
        }
      ]
    },
    {
      "cell_type": "markdown",
      "source": [
        "Побудувати Confusion Matrix"
      ],
      "metadata": {
        "id": "BLBPH6heV245"
      }
    },
    {
      "cell_type": "code",
      "source": [
        "import itertools\n",
        "from sklearn.metrics import confusion_matrix\n",
        "\n",
        "# Our function needs a different name to sklearn's plot_confusion_matrix\n",
        "def make_confusion_matrix(y_true, y_pred, classes=None, figsize=(3, 3), text_size=15): \n",
        "\n",
        "  # Create the confustion matrix\n",
        "  cm = confusion_matrix(y_true, y_pred)\n",
        "  cm_norm = cm.astype(\"float\") / cm.sum(axis=1)[:, np.newaxis] # normalize it\n",
        "  n_classes = cm.shape[0] # find the number of classes we're dealing with\n",
        "\n",
        "  # Plot the figure and make it pretty\n",
        "  fig, ax = plt.subplots(figsize=figsize)\n",
        "  cax = ax.matshow(cm, cmap=plt.cm.Blues) # colors will represent how 'correct' a class is, darker == better\n",
        "  fig.colorbar(cax)\n",
        "\n",
        "  \n",
        "  if classes:\n",
        "    labels = classes\n",
        "  else:\n",
        "    labels = np.arange(cm.shape[0])\n",
        "  \n",
        "  # Label the axes\n",
        "  ax.set(title=\"Confusion Matrix\",\n",
        "         xlabel=\"Predicted label\",\n",
        "         ylabel=\"True label\",\n",
        "         xticks=np.arange(n_classes), \n",
        "         yticks=np.arange(n_classes), \n",
        "         xticklabels=labels, \n",
        "         yticklabels=labels)\n",
        "  \n",
        "  # Make x-axis labels appear on bottom\n",
        "  ax.xaxis.set_label_position(\"bottom\")\n",
        "  ax.xaxis.tick_bottom()\n",
        "\n",
        "  # Set the threshold for different colors\n",
        "  threshold = (cm.max() + cm.min()) / 2.\n",
        "\n",
        "  # Plot the text on each cell\n",
        "  for i, j in itertools.product(range(cm.shape[0]), range(cm.shape[1])):\n",
        "    plt.text(j, i, f\"{cm[i, j]} ({cm_norm[i, j]*100:.1f}%)\",\n",
        "             horizontalalignment=\"center\",\n",
        "             color=\"white\" if cm[i, j] > threshold else \"black\",\n",
        "             size=text_size)"
      ],
      "metadata": {
        "id": "Ohj3MRhkYmcY"
      },
      "execution_count": 30,
      "outputs": []
    },
    {
      "cell_type": "code",
      "source": [
        "# Make predictions with the most recent model\n",
        "y_probs = model_14.predict(my_test_data)\n",
        "\n",
        "# Convert all of the predictions from probabilities to labels\n",
        "y_preds = y_probs.argmax(axis=1)\n",
        "\n",
        "# View the first 3 prediction labels\n",
        "y_preds[:3]\n"
      ],
      "metadata": {
        "colab": {
          "base_uri": "https://localhost:8080/"
        },
        "id": "wQYj_0p3Ysk3",
        "outputId": "97794ba4-6995-4ebd-dbc8-0751232b2b7a"
      },
      "execution_count": 31,
      "outputs": [
        {
          "output_type": "execute_result",
          "data": {
            "text/plain": [
              "array([9, 2, 5])"
            ]
          },
          "metadata": {},
          "execution_count": 31
        }
      ]
    },
    {
      "cell_type": "code",
      "source": [
        "# Check out the non-prettified confusion matrix\n",
        "from sklearn.metrics import confusion_matrix\n",
        "confusion_matrix(y_true=my_test_labels, \n",
        "                 y_pred=y_preds)"
      ],
      "metadata": {
        "colab": {
          "base_uri": "https://localhost:8080/"
        },
        "id": "-E1B89J7Y4l2",
        "outputId": "f9fa5e04-92bd-427e-da19-10fbaf14281f"
      },
      "execution_count": 32,
      "outputs": [
        {
          "output_type": "execute_result",
          "data": {
            "text/plain": [
              "array([[1000,    0,    0],\n",
              "       [   5,  955,   40],\n",
              "       [   1,   15,  984]])"
            ]
          },
          "metadata": {},
          "execution_count": 32
        }
      ]
    },
    {
      "cell_type": "code",
      "source": [
        "# Make a prettier confusion matrix\n",
        "make_confusion_matrix(y_true=my_test_labels, \n",
        "                      y_pred=y_preds,\n",
        "                      classes=class_names,\n",
        "                      figsize=(15, 15),\n",
        "                      text_size=10)"
      ],
      "metadata": {
        "colab": {
          "base_uri": "https://localhost:8080/",
          "height": 856
        },
        "id": "ecNX5KIxY8GU",
        "outputId": "b1ab92ea-784a-4f27-e3cb-ffb234c2b2e7"
      },
      "execution_count": 33,
      "outputs": [
        {
          "output_type": "display_data",
          "data": {
            "text/plain": [
              "<Figure size 1080x1080 with 2 Axes>"
            ],
            "image/png": "[encoded data removed]"
          },
          "metadata": {
            "needs_background": "light"
          }
        }
      ]
    },
    {
      "cell_type": "markdown",
      "source": [
        "## Висновок\n",
        "У ході лабораторної роботи було набуто практичних навичок з вирішення задачі класифікації за допомогою нейронної мережі Flatten & Dense layers. Ознайомились з поняттям confusion matrix та побудували її."
      ],
      "metadata": {
        "id": "9iC5zEI9JaLR"
      }
    }
  ]
}