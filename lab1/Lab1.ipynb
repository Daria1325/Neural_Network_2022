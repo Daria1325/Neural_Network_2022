{
  "nbformat": 4,
  "nbformat_minor": 0,
  "metadata": {
    "colab": {
      "name": "Lab1.ipynb",
      "provenance": [],
      "collapsed_sections": [],
      "toc_visible": true,
      "authorship_tag": "ABX9TyNTIM4XLoU1RGa7dPHxkEtp",
      "include_colab_link": true
    },
    "kernelspec": {
      "name": "python3",
      "display_name": "Python 3"
    },
    "language_info": {
      "name": "python"
    },
    "accelerator": "GPU"
  },
  "cells": [
    {
      "cell_type": "markdown",
      "metadata": {
        "id": "view-in-github",
        "colab_type": "text"
      },
      "source": [
        "<a href=\"https://colab.research.google.com/github/Daria1325/Neural_Network_2022/blob/main/lab1/Lab1.ipynb\" target=\"_parent\"><img src=\"https://colab.research.google.com/assets/colab-badge.svg\" alt=\"Open In Colab\"/></a>"
      ]
    },
    {
      "cell_type": "markdown",
      "source": [
        "# Лабораторна робота №1 <br>\n",
        "З дисципліни \"Нейронні мережі\"<br>\n",
        "студентки КН-31<br>\n",
        "Боженко Дар'ї<br>\n"
      ],
      "metadata": {
        "id": "c1Vxh7t0ZrcE"
      }
    },
    {
      "cell_type": "markdown",
      "source": [
        "##Завдання\n",
        "1. Ознайомлення з можливостями, налаштувати середовища Google colab.\n",
        "2. NumPy (створити набір даних (розмір за власним рішенням), провести CRUD операції над даними (скаляр, вектор, матриця)). Властивість shape та метод reshape. Операції над масивами. Використати arange, random."
      ],
      "metadata": {
        "id": "YIsZGrAEa_hK"
      }
    },
    {
      "cell_type": "code",
      "source": [
        "import numpy as np\n",
        "\n",
        "#створити набір даних\n",
        "A = np.array([1,5,4,7,8,9,6,4,5])\n",
        "print(A)\n",
        "\n",
        "#провести CRUD операції ????\n",
        "#скаляр\n",
        "a = np.random.randint(10,20)\n",
        "print(\"scalar\\n\", a)\n",
        "a = 5\n",
        "print(a)\n",
        "#????delete\n",
        "\n",
        "\n",
        "\n",
        "#вектор\n",
        "b = np.arange(3, 10, 1)\n",
        "print(\"vector\\n\", b)\n",
        "b=np.random.shuffle(b)\n",
        "print(b)\n",
        "b = np.append(b,[1,2,3],0)\n",
        "print(b)\n",
        "#матриця\n",
        "c = np.array([[4,7,8],[5,7,6],[10,7,8]])\n",
        "print(\"matrix\\n\",c)\n",
        "c[0][0] = 5\n",
        "print(c)\n",
        "\n",
        "\n",
        "print(A.shape)\n",
        "A = A.reshape((3,3))\n",
        "print(A)\n"
      ],
      "metadata": {
        "colab": {
          "base_uri": "https://localhost:8080/"
        },
        "id": "Bw6d8imJZjcT",
        "outputId": "8e691d32-e9d5-43e8-b601-7f297e73ce96"
      },
      "execution_count": 37,
      "outputs": [
        {
          "output_type": "stream",
          "name": "stdout",
          "text": [
            "[1 5 4 7 8 9 6 4 5]\n",
            "scalar\n",
            " 12\n",
            "5\n",
            "vector\n",
            " [3 4 5 6 7 8 9]\n",
            "[5 3 7 6 9 8 4]\n",
            "[5 3 7 6 9 8 4 1 2 3]\n",
            "matrix\n",
            " [[ 4  7  8]\n",
            " [ 5  7  6]\n",
            " [10  7  8]]\n",
            "[[ 5  7  8]\n",
            " [ 5  7  6]\n",
            " [10  7  8]]\n",
            "(9,)\n",
            "[[1 5 4]\n",
            " [7 8 9]\n",
            " [6 4 5]]\n"
          ]
        }
      ]
    },
    {
      "cell_type": "code",
      "source": [
        "#операції над масивами\n",
        "print(\"A\\n\", A)\n",
        "print(\"c\\n\",c)\n",
        "print(\"A+c\\n\",A+c)\n",
        "\n",
        "print(\"A*c\\n\",A*c)\n",
        "print(\"dot(A,c)\\n\",np.dot(A,c))\n",
        "print(\"A*5\\n\",A*5)\n",
        "print(\"A-c\\n\",A-c)\n",
        "print(\"A/c\\n\",A/c)"
      ],
      "metadata": {
        "colab": {
          "base_uri": "https://localhost:8080/"
        },
        "id": "D8L4IjS0QMl9",
        "outputId": "e626ccb4-657b-4387-b041-5b0c6dc27ffa"
      },
      "execution_count": 36,
      "outputs": [
        {
          "output_type": "stream",
          "name": "stdout",
          "text": [
            "A\n",
            " [[1 5 4]\n",
            " [7 8 9]\n",
            " [6 4 5]]\n",
            "c\n",
            " [[ 5  7  8]\n",
            " [ 5  7  6]\n",
            " [10  7  8]]\n",
            "A+c\n",
            " [[ 6 12 12]\n",
            " [12 15 15]\n",
            " [16 11 13]]\n",
            "A*c\n",
            " [[ 5 35 32]\n",
            " [35 56 54]\n",
            " [60 28 40]]\n",
            "dot(A,c)\n",
            " [[ 70  70  70]\n",
            " [165 168 176]\n",
            " [100 105 112]]\n",
            "A*5\n",
            " [[ 5 25 20]\n",
            " [35 40 45]\n",
            " [30 20 25]]\n",
            "A-c\n",
            " [[-4 -2 -4]\n",
            " [ 2  1  3]\n",
            " [-4 -3 -3]]\n",
            "A/c\n",
            " [[0.2        0.71428571 0.5       ]\n",
            " [1.4        1.14285714 1.5       ]\n",
            " [0.6        0.57142857 0.625     ]]\n"
          ]
        }
      ]
    },
    {
      "cell_type": "markdown",
      "source": [
        "3. Pandas (створити dataframe різними способами, провести маніпуляції з даними (head, describe, iloc, loc, індексація з умовами відбору,групування, пошук «пустих» значень, сортування.);"
      ],
      "metadata": {
        "id": "SYZxoXxSIKoE"
      }
    },
    {
      "cell_type": "code",
      "source": [
        "import os\n",
        "import pandas as pd"
      ],
      "metadata": {
        "id": "DQWfbRYLSTzF"
      },
      "execution_count": null,
      "outputs": []
    },
    {
      "cell_type": "markdown",
      "source": [
        "4. Matplotlib (створити набір даних лінійної функції з урахуванням помилок вимірювань, побудувати графік функції та згенерованих даних, обчислити похибку з використанням метрик MAE, MSE). Записати отримані результати у csv файл (формат: X,Y, Y_hat, mAE, mSE)"
      ],
      "metadata": {
        "id": "3RvlHQHkIWyh"
      }
    }
  ]
}